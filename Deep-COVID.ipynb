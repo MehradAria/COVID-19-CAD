{
 "cells": [
  {
   "cell_type": "markdown",
   "id": "forbidden-lewis",
   "metadata": {
    "papermill": {
     "duration": 0.029371,
     "end_time": "2021-04-19T02:56:54.370428",
     "exception": false,
     "start_time": "2021-04-19T02:56:54.341057",
     "status": "completed"
    },
    "tags": []
   },
   "source": [
    "### Deep CNN-Based CAD System for COVID-19 Detection Using Multiple Lung CT Scans.\n",
    "#### _ Mehrad Aria"
   ]
  },
  {
   "cell_type": "code",
   "execution_count": null,
   "id": "occupied-branch",
   "metadata": {
    "_cell_guid": "b1076dfc-b9ad-4769-8c92-a6c4dae69d19",
    "_uuid": "8f2839f25d086af736a60e9eeb907d3b93b6e0e5",
    "execution": {
     "iopub.execute_input": "2021-04-19T02:56:54.447587Z",
     "iopub.status.busy": "2021-04-19T02:56:54.447018Z",
     "iopub.status.idle": "2021-04-19T02:56:59.163562Z",
     "shell.execute_reply": "2021-04-19T02:56:59.162304Z"
    },
    "papermill": {
     "duration": 4.764157,
     "end_time": "2021-04-19T02:56:59.163754",
     "exception": false,
     "start_time": "2021-04-19T02:56:54.399597",
     "status": "completed"
    },
    "tags": []
   },
   "outputs": [],
   "source": [
    "import os\n",
    "import random\n",
    "import numpy as np\n",
    "import itertools\n",
    "\n",
    "SEED = 7\n",
    "os.environ['PYTHONHASHSEED']=str(SEED)\n",
    "np.random.seed(SEED)\n",
    "random.seed(SEED)\n",
    "\n",
    "import tensorflow as tf\n",
    "tf.random.set_seed(SEED)\n",
    "import tensorflow.keras\n",
    "from tensorflow.keras import layers, models, optimizers\n",
    "from tensorflow.keras.layers import Dense, BatchNormalization, Dropout, Activation, GlobalAveragePooling2D, Input\n",
    "from tensorflow.keras.models import Sequential, load_model, Model\n",
    "from tensorflow.keras import regularizers\n",
    "from tensorflow.keras.utils import to_categorical\n",
    "from tensorflow.keras.callbacks import ModelCheckpoint, ReduceLROnPlateau, EarlyStopping\n",
    "from tensorflow.keras.preprocessing import image\n",
    "from tensorflow.keras.layers.experimental import preprocessing\n",
    "\n",
    "from tensorflow.keras.applications import NASNetLarge\n",
    "NETWORK = NASNetLarge\n",
    "\n",
    "from kaggle_datasets import KaggleDatasets\n",
    "\n",
    "from sklearn.model_selection import train_test_split\n",
    "from sklearn import metrics\n",
    "from sklearn.metrics import confusion_matrix, mean_squared_error, classification_report\n",
    "\n",
    "\n",
    "import re\n",
    "import imageio\n",
    "import pandas as pd\n",
    "import matplotlib as mpl\n",
    "import matplotlib.pyplot as plt\n",
    "import matplotlib.cm as cm\n",
    "import seaborn as sns\n",
    "%matplotlib inline\n",
    "\n",
    "try:\n",
    "    tpu = None\n",
    "    tpu = tf.distribute.cluster_resolver.TPUClusterResolver()\n",
    "    print('Device:', tpu.master())\n",
    "    tf.config.experimental_connect_to_cluster(tpu)\n",
    "    tf.tpu.experimental.initialize_tpu_system(tpu)\n",
    "\n",
    "    strategy = tf.distribute.experimental.TPUStrategy(tpu)\n",
    "except:\n",
    "    strategy = tf.distribute.get_strategy()\n",
    "print('Number of replicas:', strategy.num_replicas_in_sync)\n",
    "    \n",
    "print(\"Tensorflow version \", tf.__version__)"
   ]
  },
  {
   "cell_type": "code",
   "execution_count": null,
   "id": "bibliographic-cholesterol",
   "metadata": {
    "execution": {
     "iopub.execute_input": "2021-04-19T02:57:00.483971Z",
     "iopub.status.busy": "2021-04-19T02:57:00.483223Z",
     "iopub.status.idle": "2021-04-19T02:57:02.455573Z",
     "shell.execute_reply": "2021-04-19T02:57:02.454382Z"
    },
    "papermill": {
     "duration": 3.239977,
     "end_time": "2021-04-19T02:57:02.455714",
     "exception": false,
     "start_time": "2021-04-19T02:56:59.215737",
     "status": "completed"
    },
    "tags": []
   },
   "outputs": [],
   "source": [
    "from tensorflow.keras.mixed_precision import experimental as mixed_precision\n",
    "policy = mixed_precision.Policy('mixed_float16')\n",
    "mixed_precision.set_policy(policy)"
   ]
  },
  {
   "cell_type": "code",
   "execution_count": null,
   "id": "special-sheffield",
   "metadata": {
    "execution": {
     "iopub.execute_input": "2021-04-19T02:57:02.519916Z",
     "iopub.status.busy": "2021-04-19T02:57:02.518019Z",
     "iopub.status.idle": "2021-04-19T02:57:02.520530Z",
     "shell.execute_reply": "2021-04-19T02:57:02.520948Z"
    },
    "papermill": {
     "duration": 0.035716,
     "end_time": "2021-04-19T02:57:02.521076",
     "exception": false,
     "start_time": "2021-04-19T02:57:02.485360",
     "status": "completed"
    },
    "tags": []
   },
   "outputs": [],
   "source": [
    "from kaggle_secrets import UserSecretsClient\n",
    "user_secrets = UserSecretsClient()\n",
    "user_credential = user_secrets.get_gcloud_credential()\n",
    "\n",
    "user_secrets.set_tensorflow_credential(user_credential)"
   ]
  },
  {
   "cell_type": "code",
   "execution_count": null,
   "id": "underlying-medicine",
   "metadata": {
    "execution": {
     "iopub.execute_input": "2021-04-19T02:57:02.582535Z",
     "iopub.status.busy": "2021-04-19T02:57:02.581976Z",
     "iopub.status.idle": "2021-04-19T02:57:02.585907Z",
     "shell.execute_reply": "2021-04-19T02:57:02.585488Z"
    },
    "papermill": {
     "duration": 0.036863,
     "end_time": "2021-04-19T02:57:02.586009",
     "exception": false,
     "start_time": "2021-04-19T02:57:02.549146",
     "status": "completed"
    },
    "tags": []
   },
   "outputs": [],
   "source": [
    "from tensorflow.keras import backend as K\n",
    "from tensorflow.keras import losses\n",
    "\n",
    "@tf.function\n",
    "def ordinal_categorical_crossentropy(y_true, y_pred):\n",
    "    weights = K.cast(K.abs(K.argmax(y_true, axis=1) - K.argmax(y_pred, axis=1))/(K.int_shape(y_pred)[1] - 1), dtype='float32')\n",
    "    return (1.0 + weights) * losses.categorical_crossentropy(y_true, y_pred)"
   ]
  },
  {
   "cell_type": "code",
   "execution_count": null,
   "id": "missing-range",
   "metadata": {
    "_cell_guid": "79c7e3d0-c299-4dcb-8224-4455121ee9b0",
    "_uuid": "d629ff2d2480ee46fbb7e2d37f6b5fab8052498a",
    "execution": {
     "iopub.execute_input": "2021-04-19T02:57:02.653612Z",
     "iopub.status.busy": "2021-04-19T02:57:02.653008Z",
     "iopub.status.idle": "2021-04-19T02:57:02.656775Z",
     "shell.execute_reply": "2021-04-19T02:57:02.656335Z"
    },
    "papermill": {
     "duration": 0.042662,
     "end_time": "2021-04-19T02:57:02.656877",
     "exception": false,
     "start_time": "2021-04-19T02:57:02.614215",
     "status": "completed"
    },
    "tags": []
   },
   "outputs": [],
   "source": [
    "AUTOTUNE = tf.data.experimental.AUTOTUNE\n",
    "tf.config.optimizer.set_jit(True)\n",
    "\n",
    "dataset_id1 = 'covid19-lung-ct-scans'\n",
    "GCS_PATH1 = KaggleDatasets().get_gcs_path(dataset_id1)\n",
    "BATCH_SIZE = 128 * strategy.num_replicas_in_sync\n",
    "\n",
    "CLASSES = ['COVID-19', 'Non-COVID-19']\n",
    "NUM_CLASSES = len(CLASSES)\n",
    "IMAGE_SIZE = [224, 224]\n",
    "LOSS = 'categorical_crossentropy'\n",
    "LOSS = ordinal_categorical_crossentropy\n",
    "Custom_Objects_Dict = {'ordinal_categorical_crossentropy': ordinal_categorical_crossentropy}\n",
    "\n",
    "METRICS = ['accuracy']\n",
    "\n",
    "Epochs = 200\n",
    "Early_Stop = 25\n",
    "OPTIMIZER = tensorflow.keras.optimizers.Adam(lr = 1e-2, decay = 1e-5)\n",
    "filepath = \"Best-Model.h5\"\n",
    "\n",
    "Fine_Tune_Epochs = 200\n",
    "Fine_Tune_Early_Stop = 25\n",
    "Fine_Tune_OPTIMIZER = tensorflow.keras.optimizers.Adam(lr = 1e-4, decay = 1e-6)\n",
    "Fine_Tune_filepath = \"Best-Model-FT.h5\"\n",
    "\n",
    "Callbacks = [\n",
    "    ReduceLROnPlateau(monitor='val_loss', factor=0.8, patience=5, verbose=2, mode='min', min_delta=0.0001, cooldown=1, min_lr=1e-6),\n",
    "    ModelCheckpoint(filepath, monitor='val_accuracy', verbose=2, save_best_only=True, save_weights_only=False, mode='max'),\n",
    "    EarlyStopping(monitor='val_accuracy', patience=Early_Stop, mode='auto', min_delta=0.00001, verbose=2, restore_best_weights=True)]\n",
    "\n",
    "FT_Callbacks = [\n",
    "    ReduceLROnPlateau(monitor='val_loss', factor=0.8, patience=5, verbose=2, mode='min', min_delta=0.0001, cooldown=1, min_lr=1e-6),\n",
    "    ModelCheckpoint(Fine_Tune_filepath, monitor='val_accuracy', verbose=2, save_best_only=True, save_weights_only=False, mode='max'),\n",
    "    EarlyStopping(monitor='val_loss', patience=Fine_Tune_Early_Stop, mode='auto', min_delta=0.00001, verbose=2, restore_best_weights=True)]"
   ]
  },
  {
   "cell_type": "code",
   "execution_count": null,
   "id": "false-drink",
   "metadata": {
    "execution": {
     "iopub.execute_input": "2021-04-19T02:57:02.720184Z",
     "iopub.status.busy": "2021-04-19T02:57:02.719683Z",
     "iopub.status.idle": "2021-04-19T02:58:29.808619Z",
     "shell.execute_reply": "2021-04-19T02:58:29.808119Z"
    },
    "papermill": {
     "duration": 87.123554,
     "end_time": "2021-04-19T02:58:29.808743",
     "exception": false,
     "start_time": "2021-04-19T02:57:02.685189",
     "status": "completed"
    },
    "tags": []
   },
   "outputs": [],
   "source": [
    "    filenames = tf.io.gfile.glob(str(GCS_PATH1 + '/COVID-19_Lung_CT_Scans/COVID-19/*'))\n",
    "    filenames.extend(tf.io.gfile.glob(str(GCS_PATH1 + '/COVID-19_Lung_CT_Scans/Non-COVID-19/*')))\n",
    "    \n",
    "    random.shuffle(filenames)"
   ]
  },
  {
   "cell_type": "code",
   "execution_count": null,
   "id": "assumed-tomorrow",
   "metadata": {
    "execution": {
     "iopub.execute_input": "2021-04-19T02:58:29.884494Z",
     "iopub.status.busy": "2021-04-19T02:58:29.882753Z",
     "iopub.status.idle": "2021-04-19T02:58:29.886986Z",
     "shell.execute_reply": "2021-04-19T02:58:29.886377Z"
    },
    "papermill": {
     "duration": 0.046518,
     "end_time": "2021-04-19T02:58:29.887100",
     "exception": false,
     "start_time": "2021-04-19T02:58:29.840582",
     "status": "completed"
    },
    "tags": []
   },
   "outputs": [],
   "source": [
    "COUNT_COVID = len([filename for filename in filenames if \"/COVID-19/\" in filename])\n",
    "print(\"COVID-19 images count : \" + str(COUNT_COVID))\n",
    "\n",
    "COUNT_Non_COVID = len([filename for filename in filenames if \"/Non-COVID-19/\" in filename])\n",
    "print(\"Non-COVID images count : \" + str(COUNT_Non_COVID))"
   ]
  },
  {
   "cell_type": "code",
   "execution_count": null,
   "id": "specialized-onion",
   "metadata": {
    "execution": {
     "iopub.execute_input": "2021-04-19T02:58:29.976493Z",
     "iopub.status.busy": "2021-04-19T02:58:29.967837Z",
     "iopub.status.idle": "2021-04-19T02:58:30.123094Z",
     "shell.execute_reply": "2021-04-19T02:58:30.123515Z"
    },
    "papermill": {
     "duration": 0.205494,
     "end_time": "2021-04-19T02:58:30.123652",
     "exception": false,
     "start_time": "2021-04-19T02:58:29.918158",
     "status": "completed"
    },
    "tags": []
   },
   "outputs": [],
   "source": [
    "data = {'Cases':['COVID-19', 'non-COVID'],\n",
    "        'Cases_count':[COUNT_COVID, COUNT_Non_COVID]\n",
    "       }\n",
    "\n",
    "df = pd.DataFrame(data)\n",
    "\n",
    "sns.set(style=\"darkgrid\")\n",
    "plt.figure(figsize=(10,8))\n",
    "sns.barplot(x=df.index, y= df['Cases_count'].values)\n",
    "plt.title('Number of All the Data', fontsize=14)\n",
    "plt.xlabel('Case type', fontsize=12)\n",
    "plt.ylabel('Count', fontsize=12)\n",
    "plt.xticks(range(len(df.index)), ['COVID-19', 'non-COVID'])\n",
    "plt.show()\n",
    "\n",
    "print(df)"
   ]
  },
  {
   "cell_type": "code",
   "execution_count": null,
   "id": "choice-equilibrium",
   "metadata": {
    "execution": {
     "iopub.execute_input": "2021-04-19T02:58:30.200369Z",
     "iopub.status.busy": "2021-04-19T02:58:30.198980Z",
     "iopub.status.idle": "2021-04-19T02:58:30.201509Z",
     "shell.execute_reply": "2021-04-19T02:58:30.201920Z"
    },
    "papermill": {
     "duration": 0.045889,
     "end_time": "2021-04-19T02:58:30.202043",
     "exception": false,
     "start_time": "2021-04-19T02:58:30.156154",
     "status": "completed"
    },
    "tags": []
   },
   "outputs": [],
   "source": [
    "train_filenames, test_filenames = train_test_split(filenames, test_size=0.2)\n",
    "train_filenames, val_filenames = train_test_split(train_filenames, test_size=0.2)"
   ]
  },
  {
   "cell_type": "code",
   "execution_count": null,
   "id": "immediate-wrapping",
   "metadata": {
    "execution": {
     "iopub.execute_input": "2021-04-19T02:58:30.293141Z",
     "iopub.status.busy": "2021-04-19T02:58:30.269999Z",
     "iopub.status.idle": "2021-04-19T02:58:30.313223Z",
     "shell.execute_reply": "2021-04-19T02:58:30.312816Z"
    },
    "papermill": {
     "duration": 0.080254,
     "end_time": "2021-04-19T02:58:30.313330",
     "exception": false,
     "start_time": "2021-04-19T02:58:30.233076",
     "status": "completed"
    },
    "tags": []
   },
   "outputs": [],
   "source": [
    "train_list_ds = tf.data.Dataset.from_tensor_slices(train_filenames)\n",
    "val_list_ds = tf.data.Dataset.from_tensor_slices(val_filenames)\n",
    "test_list_ds = tf.data.Dataset.from_tensor_slices(test_filenames)"
   ]
  },
  {
   "cell_type": "code",
   "execution_count": null,
   "id": "interim-sierra",
   "metadata": {
    "execution": {
     "iopub.execute_input": "2021-04-19T02:58:30.379798Z",
     "iopub.status.busy": "2021-04-19T02:58:30.379033Z",
     "iopub.status.idle": "2021-04-19T02:58:30.386021Z",
     "shell.execute_reply": "2021-04-19T02:58:30.385449Z"
    },
    "papermill": {
     "duration": 0.042042,
     "end_time": "2021-04-19T02:58:30.386163",
     "exception": false,
     "start_time": "2021-04-19T02:58:30.344121",
     "status": "completed"
    },
    "tags": []
   },
   "outputs": [],
   "source": [
    "TRAIN_IMG_COUNT = tf.data.experimental.cardinality(train_list_ds).numpy()\n",
    "print(\"Training images count: \" + str(TRAIN_IMG_COUNT))\n",
    "\n",
    "VAL_IMG_COUNT = tf.data.experimental.cardinality(val_list_ds).numpy()\n",
    "print(\"Validating images count: \" + str(VAL_IMG_COUNT))\n",
    "\n",
    "Test_IMG_COUNT = tf.data.experimental.cardinality(test_list_ds).numpy()\n",
    "print(\"Testing images count: \" + str(Test_IMG_COUNT))"
   ]
  },
  {
   "cell_type": "code",
   "execution_count": null,
   "id": "outer-appendix",
   "metadata": {
    "execution": {
     "iopub.execute_input": "2021-04-19T02:58:30.453169Z",
     "iopub.status.busy": "2021-04-19T02:58:30.452333Z",
     "iopub.status.idle": "2021-04-19T02:58:30.456485Z",
     "shell.execute_reply": "2021-04-19T02:58:30.456052Z"
    },
    "papermill": {
     "duration": 0.039283,
     "end_time": "2021-04-19T02:58:30.456720",
     "exception": false,
     "start_time": "2021-04-19T02:58:30.417437",
     "status": "completed"
    },
    "tags": []
   },
   "outputs": [],
   "source": [
    "def get_label(file_path):\n",
    "    parts = tf.strings.split(file_path, os.path.sep)\n",
    "    return int(parts[-2] == CLASSES)"
   ]
  },
  {
   "cell_type": "code",
   "execution_count": null,
   "id": "smoking-beginning",
   "metadata": {
    "execution": {
     "iopub.execute_input": "2021-04-19T02:58:30.531123Z",
     "iopub.status.busy": "2021-04-19T02:58:30.529151Z",
     "iopub.status.idle": "2021-04-19T02:58:30.531730Z",
     "shell.execute_reply": "2021-04-19T02:58:30.532160Z"
    },
    "papermill": {
     "duration": 0.041662,
     "end_time": "2021-04-19T02:58:30.532282",
     "exception": false,
     "start_time": "2021-04-19T02:58:30.490620",
     "status": "completed"
    },
    "tags": []
   },
   "outputs": [],
   "source": [
    "def decode_img(img):\n",
    "    img = tf.image.decode_png(img, channels=3)\n",
    "    img = tf.image.convert_image_dtype(img, tf.float32)\n",
    "    return tf.image.resize(img, IMAGE_SIZE)"
   ]
  },
  {
   "cell_type": "code",
   "execution_count": null,
   "id": "blocked-corps",
   "metadata": {
    "execution": {
     "iopub.execute_input": "2021-04-19T02:58:30.599623Z",
     "iopub.status.busy": "2021-04-19T02:58:30.597897Z",
     "iopub.status.idle": "2021-04-19T02:58:30.600233Z",
     "shell.execute_reply": "2021-04-19T02:58:30.600754Z"
    },
    "papermill": {
     "duration": 0.037787,
     "end_time": "2021-04-19T02:58:30.600893",
     "exception": false,
     "start_time": "2021-04-19T02:58:30.563106",
     "status": "completed"
    },
    "tags": []
   },
   "outputs": [],
   "source": [
    "def process_path(file_path):\n",
    "    label = get_label(file_path)\n",
    "    label = tf.one_hot(label, NUM_CLASSES)\n",
    "    img = tf.io.read_file(file_path)\n",
    "    img = decode_img(img)\n",
    "    return img, label"
   ]
  },
  {
   "cell_type": "code",
   "execution_count": null,
   "id": "small-affairs",
   "metadata": {
    "execution": {
     "iopub.execute_input": "2021-04-19T02:58:30.667750Z",
     "iopub.status.busy": "2021-04-19T02:58:30.667112Z",
     "iopub.status.idle": "2021-04-19T02:58:31.018309Z",
     "shell.execute_reply": "2021-04-19T02:58:31.017735Z"
    },
    "papermill": {
     "duration": 0.386811,
     "end_time": "2021-04-19T02:58:31.018461",
     "exception": false,
     "start_time": "2021-04-19T02:58:30.631650",
     "status": "completed"
    },
    "tags": []
   },
   "outputs": [],
   "source": [
    "train_ds = train_list_ds.map(process_path, num_parallel_calls=AUTOTUNE)\n",
    "val_ds = val_list_ds.map(process_path, num_parallel_calls=AUTOTUNE)\n",
    "test_ds = test_list_ds.map(process_path, num_parallel_calls=AUTOTUNE)"
   ]
  },
  {
   "cell_type": "code",
   "execution_count": null,
   "id": "great-broad",
   "metadata": {
    "execution": {
     "iopub.execute_input": "2021-04-19T02:58:31.087639Z",
     "iopub.status.busy": "2021-04-19T02:58:31.085875Z",
     "iopub.status.idle": "2021-04-19T02:58:31.088261Z",
     "shell.execute_reply": "2021-04-19T02:58:31.088736Z"
    },
    "papermill": {
     "duration": 0.038884,
     "end_time": "2021-04-19T02:58:31.088868",
     "exception": false,
     "start_time": "2021-04-19T02:58:31.049984",
     "status": "completed"
    },
    "tags": []
   },
   "outputs": [],
   "source": [
    "def prepare_for_training(ds, cache=True):\n",
    "    ds = ds.shuffle(buffer_size=1000)\n",
    "    ds = ds.batch(BATCH_SIZE)\n",
    "\n",
    "    if cache:\n",
    "        ds = ds.prefetch(buffer_size=AUTOTUNE)\n",
    "\n",
    "    return ds"
   ]
  },
  {
   "cell_type": "code",
   "execution_count": null,
   "id": "divine-intranet",
   "metadata": {
    "execution": {
     "iopub.execute_input": "2021-04-19T02:58:31.153887Z",
     "iopub.status.busy": "2021-04-19T02:58:31.153340Z",
     "iopub.status.idle": "2021-04-19T02:58:31.181614Z",
     "shell.execute_reply": "2021-04-19T02:58:31.181190Z"
    },
    "papermill": {
     "duration": 0.062348,
     "end_time": "2021-04-19T02:58:31.181725",
     "exception": false,
     "start_time": "2021-04-19T02:58:31.119377",
     "status": "completed"
    },
    "tags": []
   },
   "outputs": [],
   "source": [
    "train_ds = prepare_for_training(train_ds)\n",
    "val_ds = prepare_for_training(val_ds)\n",
    "test_ds = prepare_for_training(test_ds, False)"
   ]
  },
  {
   "cell_type": "code",
   "execution_count": null,
   "id": "accurate-antique",
   "metadata": {
    "execution": {
     "iopub.execute_input": "2021-04-19T02:58:31.248186Z",
     "iopub.status.busy": "2021-04-19T02:58:31.247608Z",
     "iopub.status.idle": "2021-04-19T02:58:31.264905Z",
     "shell.execute_reply": "2021-04-19T02:58:31.264268Z"
    },
    "papermill": {
     "duration": 0.05271,
     "end_time": "2021-04-19T02:58:31.265026",
     "exception": false,
     "start_time": "2021-04-19T02:58:31.212316",
     "status": "completed"
    },
    "tags": []
   },
   "outputs": [],
   "source": [
    "img_augmentation = Sequential([\n",
    "    preprocessing.RandomFlip(\"horizontal\"),\n",
    "    preprocessing.RandomContrast(factor=0.20)\n",
    "    ],name=\"Augmentation\")"
   ]
  },
  {
   "cell_type": "code",
   "execution_count": null,
   "id": "suspected-romantic",
   "metadata": {
    "execution": {
     "iopub.execute_input": "2021-04-19T02:58:31.331777Z",
     "iopub.status.busy": "2021-04-19T02:58:31.331206Z",
     "iopub.status.idle": "2021-04-19T02:58:31.334640Z",
     "shell.execute_reply": "2021-04-19T02:58:31.335047Z"
    },
    "papermill": {
     "duration": 0.039458,
     "end_time": "2021-04-19T02:58:31.335169",
     "exception": false,
     "start_time": "2021-04-19T02:58:31.295711",
     "status": "completed"
    },
    "tags": []
   },
   "outputs": [],
   "source": [
    "def show_batch(image_batch, label_batch):\n",
    "    plt.figure(figsize=(10,10))\n",
    "    for n in range(15):\n",
    "        ax = plt.subplot(5,5,n+1)\n",
    "        plt.imshow(image_batch[n])\n",
    "        plt.title(CLASSES[np.argmax(label_batch[n])])\n",
    "        plt.axis(\"off\")"
   ]
  },
  {
   "cell_type": "code",
   "execution_count": null,
   "id": "distributed-diagram",
   "metadata": {
    "execution": {
     "iopub.execute_input": "2021-04-19T02:58:31.400727Z",
     "iopub.status.busy": "2021-04-19T02:58:31.400071Z",
     "iopub.status.idle": "2021-04-19T02:58:36.417688Z",
     "shell.execute_reply": "2021-04-19T02:58:36.418168Z"
    },
    "papermill": {
     "duration": 5.052555,
     "end_time": "2021-04-19T02:58:36.418381",
     "exception": false,
     "start_time": "2021-04-19T02:58:31.365826",
     "status": "completed"
    },
    "tags": []
   },
   "outputs": [],
   "source": [
    "image_batch, label_batch = next(iter(train_ds))\n",
    "show_batch(image_batch.numpy(), label_batch.numpy())"
   ]
  },
  {
   "cell_type": "code",
   "execution_count": null,
   "id": "uniform-projection",
   "metadata": {
    "execution": {
     "iopub.execute_input": "2021-04-19T02:58:36.496162Z",
     "iopub.status.busy": "2021-04-19T02:58:36.495332Z",
     "iopub.status.idle": "2021-04-19T02:58:46.449036Z",
     "shell.execute_reply": "2021-04-19T02:58:46.449913Z"
    },
    "papermill": {
     "duration": 9.995531,
     "end_time": "2021-04-19T02:58:46.450172",
     "exception": false,
     "start_time": "2021-04-19T02:58:36.454641",
     "status": "completed"
    },
    "tags": []
   },
   "outputs": [],
   "source": [
    "def dataset_to_numpy_util(dataset, N):\n",
    "    dataset = dataset.unbatch().batch(N)\n",
    "    for images, labels in dataset:\n",
    "        numpy_images = images.numpy()\n",
    "        numpy_labels = labels.numpy()\n",
    "        break\n",
    "    return numpy_images, numpy_labels\n",
    "\n",
    "x_test, y_test = dataset_to_numpy_util(test_ds, Test_IMG_COUNT)\n",
    "\n",
    "print(\"Evaluation Dataset:\")\n",
    "print('X shape: ', x_test.shape,' Y shape: ', y_test.shape)"
   ]
  },
  {
   "cell_type": "code",
   "execution_count": null,
   "id": "mental-subscription",
   "metadata": {
    "execution": {
     "iopub.execute_input": "2021-04-19T02:58:46.573563Z",
     "iopub.status.busy": "2021-04-19T02:58:46.572811Z",
     "iopub.status.idle": "2021-04-19T02:58:46.576159Z",
     "shell.execute_reply": "2021-04-19T02:58:46.576728Z"
    },
    "papermill": {
     "duration": 0.068511,
     "end_time": "2021-04-19T02:58:46.576909",
     "exception": false,
     "start_time": "2021-04-19T02:58:46.508398",
     "status": "completed"
    },
    "tags": []
   },
   "outputs": [],
   "source": [
    "def weight_classes(extra_weight=False, ew_value=1):\n",
    "    total_COUNT = COUNT_COVID + COUNT_Non_COVID\n",
    "\n",
    "    weight_for_0 = (1 / COUNT_COVID) * total_COUNT / 2.0 \n",
    "    weight_for_1 = (1 / COUNT_Non_COVID) * total_COUNT / 2.0\n",
    "    \n",
    "    if extra_weight:\n",
    "        weight_for_1 *= ew_value\n",
    "\n",
    "    class_weight = {0: weight_for_0, 1: weight_for_1}\n",
    "\n",
    "    print(f'Weight for class 0: {weight_for_0}')\n",
    "    print(f'Weight for class 1: {weight_for_1}')\n",
    "    \n",
    "    return class_weight"
   ]
  },
  {
   "cell_type": "code",
   "execution_count": null,
   "id": "ongoing-convenience",
   "metadata": {
    "execution": {
     "iopub.execute_input": "2021-04-19T02:58:46.699212Z",
     "iopub.status.busy": "2021-04-19T02:58:46.698312Z",
     "iopub.status.idle": "2021-04-19T02:58:46.702083Z",
     "shell.execute_reply": "2021-04-19T02:58:46.699910Z"
    },
    "papermill": {
     "duration": 0.068677,
     "end_time": "2021-04-19T02:58:46.702329",
     "exception": false,
     "start_time": "2021-04-19T02:58:46.633652",
     "status": "completed"
    },
    "tags": []
   },
   "outputs": [],
   "source": [
    "class_weight = weight_classes(extra_weight=True, ew_value=1.5)"
   ]
  },
  {
   "cell_type": "code",
   "execution_count": null,
   "id": "hundred-insight",
   "metadata": {
    "execution": {
     "iopub.execute_input": "2021-04-19T02:58:46.809067Z",
     "iopub.status.busy": "2021-04-19T02:58:46.808128Z",
     "iopub.status.idle": "2021-04-19T02:58:46.810553Z",
     "shell.execute_reply": "2021-04-19T02:58:46.810964Z"
    },
    "papermill": {
     "duration": 0.049949,
     "end_time": "2021-04-19T02:58:46.811083",
     "exception": false,
     "start_time": "2021-04-19T02:58:46.761134",
     "status": "completed"
    },
    "tags": []
   },
   "outputs": [],
   "source": [
    "def build_model(OPTIMIZER, LOSS, METRICS):\n",
    "    model = None\n",
    "    inputs = layers.Input(shape=input_shape)\n",
    "    x = img_augmentation(inputs)\n",
    "    baseModel = NETWORK(include_top=False, input_tensor=x, weights=\"imagenet\", pooling ='avg')\n",
    "\n",
    "    baseModel.trainable = False\n",
    "\n",
    "    x = BatchNormalization(axis = -1, name=\"Batch-Normalization-1\")(baseModel.output)\n",
    "    x = Dense(512, activation='relu', kernel_regularizer=regularizers.L1L2(l1=1e-5, l2=1e-4))(x)\n",
    "    x = BatchNormalization(axis = -1, name=\"Batch-Normalization-2\")(x)\n",
    "    x = Dropout(.2, name=\"Dropout-1\")(x)\n",
    "\n",
    "    x = Dense(256, activation='relu')(x)\n",
    "    x = BatchNormalization(axis = -1, name=\"Batch-Normalization-3\")(x)\n",
    "    \n",
    "    outputs = Dense(NUM_CLASSES, activation=\"softmax\", name=\"Classifier\")(x)\n",
    "    model = tf.keras.Model(inputs=baseModel.input, outputs=outputs, name=\"Deep-COVID\")\n",
    "    \n",
    "    model.compile(optimizer = OPTIMIZER, loss = LOSS, metrics = METRICS)\n",
    "        \n",
    "    return model"
   ]
  },
  {
   "cell_type": "code",
   "execution_count": null,
   "id": "interracial-trigger",
   "metadata": {
    "execution": {
     "iopub.execute_input": "2021-04-19T02:58:46.887681Z",
     "iopub.status.busy": "2021-04-19T02:58:46.886732Z",
     "iopub.status.idle": "2021-04-19T02:58:57.515793Z",
     "shell.execute_reply": "2021-04-19T02:58:57.514778Z"
    },
    "papermill": {
     "duration": 10.670035,
     "end_time": "2021-04-19T02:58:57.515933",
     "exception": false,
     "start_time": "2021-04-19T02:58:46.845898",
     "status": "completed"
    },
    "tags": []
   },
   "outputs": [],
   "source": [
    "with strategy.scope():\n",
    "    model = build_model(OPTIMIZER, LOSS, METRICS)"
   ]
  },
  {
   "cell_type": "code",
   "execution_count": null,
   "id": "appreciated-price",
   "metadata": {
    "execution": {
     "iopub.execute_input": "2021-04-19T02:58:57.628336Z",
     "iopub.status.busy": "2021-04-19T02:58:57.627817Z",
     "iopub.status.idle": "2021-04-19T04:29:58.574990Z",
     "shell.execute_reply": "2021-04-19T04:29:58.575644Z"
    },
    "papermill": {
     "duration": 5461.007751,
     "end_time": "2021-04-19T04:29:58.575866",
     "exception": false,
     "start_time": "2021-04-19T02:58:57.568115",
     "status": "completed"
    },
    "tags": []
   },
   "outputs": [],
   "source": [
    "def fit_model(Epochs, Callbacks, class_weight=None):\n",
    "    history = model.fit(\n",
    "        train_ds,\n",
    "        validation_data=val_ds,\n",
    "        epochs=Epochs,\n",
    "        callbacks=Callbacks,\n",
    "        verbose=2,\n",
    "        class_weight=class_weight\n",
    "    )\n",
    "    return history\n",
    "    \n",
    "history = fit_model(Epochs, Callbacks, class_weight=class_weight)"
   ]
  },
  {
   "cell_type": "code",
   "execution_count": null,
   "id": "flush-choice",
   "metadata": {
    "execution": {
     "iopub.execute_input": "2021-04-19T04:29:58.900090Z",
     "iopub.status.busy": "2021-04-19T04:29:58.899308Z",
     "iopub.status.idle": "2021-04-19T04:29:59.496940Z",
     "shell.execute_reply": "2021-04-19T04:29:59.497521Z"
    },
    "papermill": {
     "duration": 0.760299,
     "end_time": "2021-04-19T04:29:59.497725",
     "exception": false,
     "start_time": "2021-04-19T04:29:58.737426",
     "status": "completed"
    },
    "tags": []
   },
   "outputs": [],
   "source": [
    "def Plot_Learning_Curves():\n",
    "    acc = history.history['accuracy']\n",
    "    val_acc = history.history['val_accuracy']\n",
    "    \n",
    "    loss = history.history['loss']\n",
    "    val_loss = history.history['val_loss']\n",
    "    \n",
    "    sns.set(style=\"dark\")\n",
    "    plt.rcParams['figure.figsize'] = (14, 5)\n",
    "\n",
    "    plt.subplot(1,2,1)\n",
    "    plt.plot(loss, label='Training loss')\n",
    "    plt.plot(val_loss, linestyle=\"--\", label='Validation loss')\n",
    "    plt.title('Training and validation loss')\n",
    "    plt.ylabel('Loss') \n",
    "    plt.xlabel('Epoch')\n",
    "    plt.legend()\n",
    "\n",
    "    plt.subplot(1,2,2)\n",
    "    plt.plot(acc, label='Training Accuracy')\n",
    "    plt.plot(val_acc, linestyle=\"--\", label='Validation Accuracy')\n",
    "    plt.title('Training and validation accuracy')\n",
    "    plt.ylabel('Accuracy') \n",
    "    plt.xlabel('Epoch')\n",
    "    plt.legend()\n",
    "\n",
    "    plt.show()\n",
    "    \n",
    "Plot_Learning_Curves()"
   ]
  },
  {
   "cell_type": "code",
   "execution_count": null,
   "id": "optical-party",
   "metadata": {
    "execution": {
     "iopub.execute_input": "2021-04-19T04:29:59.760658Z",
     "iopub.status.busy": "2021-04-19T04:29:59.759760Z",
     "iopub.status.idle": "2021-04-19T04:30:47.579829Z",
     "shell.execute_reply": "2021-04-19T04:30:47.578577Z"
    },
    "papermill": {
     "duration": 47.94408,
     "end_time": "2021-04-19T04:30:47.579971",
     "exception": false,
     "start_time": "2021-04-19T04:29:59.635891",
     "status": "completed"
    },
    "tags": []
   },
   "outputs": [],
   "source": [
    "def evaluate_model(model, filepath, Custom_Objects_Dict):\n",
    "    del model\n",
    "    model = load_model(filepath, custom_objects = Custom_Objects_Dict)\n",
    "    print(\"Model Loaded\")\n",
    "\n",
    "    results = model.evaluate(test_ds, return_dict=True)\n",
    "    print ('\\nModel Evaluation:')\n",
    "    print(results['accuracy']*100)\n",
    "    return results\n",
    "    \n",
    "results = evaluate_model(model, filepath, Custom_Objects_Dict)"
   ]
  },
  {
   "cell_type": "code",
   "execution_count": null,
   "id": "complex-patch",
   "metadata": {
    "execution": {
     "iopub.execute_input": "2021-04-19T04:30:47.828606Z",
     "iopub.status.busy": "2021-04-19T04:30:47.827854Z",
     "iopub.status.idle": "2021-04-19T04:30:47.831401Z",
     "shell.execute_reply": "2021-04-19T04:30:47.830919Z"
    },
    "papermill": {
     "duration": 0.138169,
     "end_time": "2021-04-19T04:30:47.831553",
     "exception": false,
     "start_time": "2021-04-19T04:30:47.693384",
     "status": "completed"
    },
    "tags": []
   },
   "outputs": [],
   "source": [
    "def fine_tune(filepath, OPTIMIZER, LOSS, METRICS, Custom_Objects_Dict):\n",
    "    model = None\n",
    "    model = load_model(filepath, custom_objects = Custom_Objects_Dict)\n",
    "    \n",
    "    for layer in model.layers[-30:]:\n",
    "        if not isinstance(layer, BatchNormalization):\n",
    "            layer.trainable = True\n",
    "            \n",
    "    model.compile(optimizer = Fine_Tune_OPTIMIZER, loss = LOSS, metrics = METRICS)\n",
    "    return model"
   ]
  },
  {
   "cell_type": "code",
   "execution_count": null,
   "id": "monthly-myanmar",
   "metadata": {
    "execution": {
     "iopub.execute_input": "2021-04-19T04:30:48.101625Z",
     "iopub.status.busy": "2021-04-19T04:30:48.096740Z",
     "iopub.status.idle": "2021-04-19T04:30:56.541578Z",
     "shell.execute_reply": "2021-04-19T04:30:56.541071Z"
    },
    "papermill": {
     "duration": 8.586206,
     "end_time": "2021-04-19T04:30:56.541718",
     "exception": false,
     "start_time": "2021-04-19T04:30:47.955512",
     "status": "completed"
    },
    "tags": []
   },
   "outputs": [],
   "source": [
    "with strategy.scope():\n",
    "    model = fine_tune(filepath, Fine_Tune_OPTIMIZER, LOSS, METRICS, Custom_Objects_Dict)"
   ]
  },
  {
   "cell_type": "code",
   "execution_count": null,
   "id": "downtown-driver",
   "metadata": {
    "execution": {
     "iopub.execute_input": "2021-04-19T04:30:56.780861Z",
     "iopub.status.busy": "2021-04-19T04:30:56.780098Z",
     "iopub.status.idle": "2021-04-19T05:12:52.719409Z",
     "shell.execute_reply": "2021-04-19T05:12:52.718932Z"
    },
    "papermill": {
     "duration": 2516.062883,
     "end_time": "2021-04-19T05:12:52.719619",
     "exception": false,
     "start_time": "2021-04-19T04:30:56.656736",
     "status": "completed"
    },
    "tags": []
   },
   "outputs": [],
   "source": [
    "history = fit_model(Fine_Tune_Epochs, FT_Callbacks, class_weight=class_weight)"
   ]
  },
  {
   "cell_type": "code",
   "execution_count": null,
   "id": "specified-niagara",
   "metadata": {
    "execution": {
     "iopub.execute_input": "2021-04-19T05:12:52.995304Z",
     "iopub.status.busy": "2021-04-19T05:12:52.994569Z",
     "iopub.status.idle": "2021-04-19T05:13:39.325265Z",
     "shell.execute_reply": "2021-04-19T05:13:39.324799Z"
    },
    "papermill": {
     "duration": 46.472892,
     "end_time": "2021-04-19T05:13:39.325388",
     "exception": false,
     "start_time": "2021-04-19T05:12:52.852496",
     "status": "completed"
    },
    "tags": []
   },
   "outputs": [],
   "source": [
    "results = evaluate_model(model, Fine_Tune_filepath, Custom_Objects_Dict, Custom_Objects)"
   ]
  },
  {
   "cell_type": "code",
   "execution_count": null,
   "id": "understanding-liverpool",
   "metadata": {
    "execution": {
     "iopub.execute_input": "2021-04-19T05:13:39.633617Z",
     "iopub.status.busy": "2021-04-19T05:13:39.632768Z",
     "iopub.status.idle": "2021-04-19T05:13:39.635168Z",
     "shell.execute_reply": "2021-04-19T05:13:39.634654Z"
    },
    "papermill": {
     "duration": 0.157851,
     "end_time": "2021-04-19T05:13:39.635279",
     "exception": false,
     "start_time": "2021-04-19T05:13:39.477428",
     "status": "completed"
    },
    "tags": []
   },
   "outputs": [],
   "source": [
    "if not TPU_accelerator:\n",
    "    tf.keras.mixed_precision.set_global_policy('float32')"
   ]
  },
  {
   "cell_type": "code",
   "execution_count": null,
   "id": "challenging-catering",
   "metadata": {
    "execution": {
     "iopub.execute_input": "2021-04-19T05:14:14.000659Z",
     "iopub.status.busy": "2021-04-19T05:14:13.999797Z",
     "iopub.status.idle": "2021-04-19T05:14:15.257293Z",
     "shell.execute_reply": "2021-04-19T05:14:15.257714Z"
    },
    "papermill": {
     "duration": 1.444941,
     "end_time": "2021-04-19T05:14:15.257876",
     "exception": false,
     "start_time": "2021-04-19T05:14:13.812935",
     "status": "completed"
    },
    "tags": []
   },
   "outputs": [],
   "source": [
    "preds = model.predict(x_test)\n",
    "print('Shape of preds: ', preds.shape)\n",
    "plt.figure(figsize = (12, 12))\n",
    "\n",
    "R = np.random.choice(preds.shape[0])\n",
    "\n",
    "for i in range(25):\n",
    "    plt.subplot(5, 5, i + 1)\n",
    "    plt.grid(False)\n",
    "    plt.xticks([])\n",
    "    plt.yticks([])\n",
    "    R = np.random.choice(preds.shape[0])\n",
    "    pred = np.argmax(preds[R])\n",
    "    actual = np.argmax(y_test[R])\n",
    "    col = 'g'\n",
    "    if pred != actual:\n",
    "        col = 'r'\n",
    "    plt.xlabel('I={} | P={} | L={}'.format(R, pred, actual), color = col)\n",
    "    plt.imshow(((x_test[R]* 255).astype(np.uint8)), cmap='binary')\n",
    "plt.show()"
   ]
  },
  {
   "cell_type": "code",
   "execution_count": null,
   "id": "hindu-skill",
   "metadata": {
    "execution": {
     "iopub.execute_input": "2021-04-19T05:14:15.686538Z",
     "iopub.status.busy": "2021-04-19T05:14:15.684670Z",
     "iopub.status.idle": "2021-04-19T05:14:15.816335Z",
     "shell.execute_reply": "2021-04-19T05:14:15.815904Z"
    },
    "papermill": {
     "duration": 0.32977,
     "end_time": "2021-04-19T05:14:15.816473",
     "exception": false,
     "start_time": "2021-04-19T05:14:15.486703",
     "status": "completed"
    },
    "tags": []
   },
   "outputs": [],
   "source": [
    "index = 0\n",
    "plt.rcParams['figure.figsize'] = (6, 4)\n",
    "plt.plot(preds[index])\n",
    "sns.set(style=\"darkgrid\")\n",
    "plt.show()"
   ]
  },
  {
   "cell_type": "code",
   "execution_count": null,
   "id": "common-kennedy",
   "metadata": {
    "execution": {
     "iopub.execute_input": "2021-04-19T05:14:16.175580Z",
     "iopub.status.busy": "2021-04-19T05:14:16.175019Z",
     "iopub.status.idle": "2021-04-19T05:14:16.197202Z",
     "shell.execute_reply": "2021-04-19T05:14:16.196793Z"
    },
    "papermill": {
     "duration": 0.204081,
     "end_time": "2021-04-19T05:14:16.197316",
     "exception": false,
     "start_time": "2021-04-19T05:14:15.993235",
     "status": "completed"
    },
    "tags": []
   },
   "outputs": [],
   "source": [
    "categories = ['COVID-19', 'Non-COVID-19']\n",
    "preds = np.round(preds,0)\n",
    "class_metrics = metrics.classification_report(y_test, preds, target_names = categories, zero_division = 0)\n",
    "print (class_metrics)"
   ]
  },
  {
   "cell_type": "code",
   "execution_count": null,
   "id": "enabling-passage",
   "metadata": {
    "execution": {
     "iopub.execute_input": "2021-04-19T05:14:16.565664Z",
     "iopub.status.busy": "2021-04-19T05:14:16.564841Z",
     "iopub.status.idle": "2021-04-19T05:14:17.107254Z",
     "shell.execute_reply": "2021-04-19T05:14:17.106839Z"
    },
    "papermill": {
     "duration": 0.733641,
     "end_time": "2021-04-19T05:14:17.107375",
     "exception": false,
     "start_time": "2021-04-19T05:14:16.373734",
     "status": "completed"
    },
    "tags": []
   },
   "outputs": [],
   "source": [
    "matrix = metrics.confusion_matrix(y_test.argmax(axis=1), preds.argmax(axis=1))\n",
    "\n",
    "def plot_confusion_matrix(cm,\n",
    "                          target_names,\n",
    "                          title='Confusion matrix',\n",
    "                          cmap=None,\n",
    "                          normalize=True):\n",
    "\n",
    "    accuracy = np.trace(cm) / float(np.sum(cm))\n",
    "    misclass = 1 - accuracy\n",
    "    sns.set(style=\"dark\")\n",
    "    if cmap is None:\n",
    "        cmap = plt.get_cmap('Blues')\n",
    "\n",
    "    plt.figure(figsize=(8, 6))\n",
    "    plt.imshow(cm, interpolation='nearest', cmap=cmap)\n",
    "    plt.title(title)\n",
    "    plt.colorbar()\n",
    "\n",
    "    if target_names is not None:\n",
    "        tick_marks = np.arange(len(target_names))\n",
    "        plt.xticks(tick_marks, target_names, rotation=45)\n",
    "        plt.yticks(tick_marks, target_names)\n",
    "\n",
    "    if normalize:\n",
    "        cm = cm.astype('float') / cm.sum(axis=1)[:, np.newaxis]\n",
    "\n",
    "\n",
    "    thresh = cm.max() / 1.5 if normalize else cm.max() / 2\n",
    "    for i, j in itertools.product(range(cm.shape[0]), range(cm.shape[1])):\n",
    "        if normalize:\n",
    "            plt.text(j, i, \"{:0.4f}\".format(cm[i, j]),\n",
    "                     horizontalalignment=\"center\",\n",
    "                     color=\"white\" if cm[i, j] > thresh else \"black\")\n",
    "        else:\n",
    "            plt.text(j, i, \"{:,}\".format(cm[i, j]),\n",
    "                     horizontalalignment=\"center\",\n",
    "                     color=\"white\" if cm[i, j] > thresh else \"black\")\n",
    "\n",
    "\n",
    "    plt.tight_layout()\n",
    "    plt.ylabel('True label')\n",
    "    plt.xlabel('Predicted label\\n Accuracy={:0.4f}; Misclass={:0.4f}'.format(accuracy, misclass))\n",
    "    plt.show()\n",
    "    \n",
    "plot_confusion_matrix(cm           = np.array(matrix), \n",
    "                      normalize    = False,\n",
    "                      target_names = categories,\n",
    "                      title        = \"Confusion Matrix\")\n",
    "\n",
    "plot_confusion_matrix(cm           = np.array(matrix), \n",
    "                      normalize    = True,\n",
    "                      target_names = categories,\n",
    "                      title        = \"Confusion Matrix, Normalized\")"
   ]
  },
  {
   "cell_type": "code",
   "execution_count": null,
   "id": "editorial-science",
   "metadata": {
    "execution": {
     "iopub.execute_input": "2021-04-19T05:14:17.474849Z",
     "iopub.status.busy": "2021-04-19T05:14:17.474014Z",
     "iopub.status.idle": "2021-04-19T05:14:18.474453Z",
     "shell.execute_reply": "2021-04-19T05:14:18.473997Z"
    },
    "papermill": {
     "duration": 1.18776,
     "end_time": "2021-04-19T05:14:18.474577",
     "exception": false,
     "start_time": "2021-04-19T05:14:17.286817",
     "status": "completed"
    },
    "tags": []
   },
   "outputs": [],
   "source": [
    "test_image = x_test[0]\n",
    "x = np.expand_dims(test_image, axis=0)\n",
    "x = x/255\n",
    "\n",
    "images = np.vstack([x])\n",
    "\n",
    "classes = model.predict(images, batch_size=BATCH_SIZE)\n",
    "classes = np.argmax(classes,axis=1)\n",
    "\n",
    "print ('Class:', categories[int(classes)] )"
   ]
  },
  {
   "cell_type": "code",
   "execution_count": null,
   "id": "mechanical-denmark",
   "metadata": {
    "execution": {
     "iopub.execute_input": "2021-04-19T05:14:18.853134Z",
     "iopub.status.busy": "2021-04-19T05:14:18.852260Z",
     "iopub.status.idle": "2021-04-19T05:14:18.861206Z",
     "shell.execute_reply": "2021-04-19T05:14:18.860704Z"
    },
    "papermill": {
     "duration": 0.202555,
     "end_time": "2021-04-19T05:14:18.861329",
     "exception": false,
     "start_time": "2021-04-19T05:14:18.658774",
     "status": "completed"
    },
    "tags": []
   },
   "outputs": [],
   "source": [
    "FP = matrix.sum(axis=0) - np.diag(matrix)\n",
    "FN = matrix.sum(axis=1) - np.diag(matrix)\n",
    "TP = np.diag(matrix)\n",
    "TN = matrix[:].sum() - (FP + FN + TP)\n",
    "\n",
    "TPR = TP/(TP+FN)\n",
    "TNR = TN/(TN+FP) \n",
    "PPV = TP/(TP+FP)\n",
    "NPV = TN/(TN+FN)\n",
    "FPR = FP/(FP+TN)\n",
    "FNR = FN/(TP+FN)\n",
    "FDR = FP/(TP+FP)\n",
    "\n",
    "ACC = (TP+TN)/(TP+FP+FN+TN)\n",
    "\n",
    "print('Other Metrics:')\n",
    "MSE = mean_squared_error(y_test, preds)\n",
    "\n",
    "print('MSE:', MSE)\n",
    "print('Accuracy:', ACC)\n",
    "print('Precision (positive predictive value):', PPV)\n",
    "print('Recall (Sensitivity, hit rate, true positive rate):', TPR)\n",
    "print('Specificity (true negative rate):', TNR)\n",
    "print('Negative Predictive Value:', NPV)\n",
    "print('Fall out (false positive rate):', FPR)\n",
    "print('False Negative Rate:', FNR)\n",
    "print('False discovery rate:', FDR)"
   ]
  },
  {
   "cell_type": "code",
   "execution_count": null,
   "id": "stupid-oxide",
   "metadata": {
    "execution": {
     "iopub.execute_input": "2021-04-19T05:14:19.226035Z",
     "iopub.status.busy": "2021-04-19T05:14:19.225310Z",
     "iopub.status.idle": "2021-04-19T05:14:19.229274Z",
     "shell.execute_reply": "2021-04-19T05:14:19.228779Z"
    },
    "papermill": {
     "duration": 0.188124,
     "end_time": "2021-04-19T05:14:19.229404",
     "exception": false,
     "start_time": "2021-04-19T05:14:19.041280",
     "status": "completed"
    },
    "tags": []
   },
   "outputs": [],
   "source": [
    "total_end = datetime.datetime.now()\n",
    "elapsed = total_end - total_start\n",
    "print ('Total time elapsed: ', elapsed)"
   ]
  },
  {
   "cell_type": "markdown",
   "id": "adolescent-recipe",
   "metadata": {
    "papermill": {
     "duration": 0.182227,
     "end_time": "2021-04-19T05:14:19.590685",
     "exception": false,
     "start_time": "2021-04-19T05:14:19.408458",
     "status": "completed"
    },
    "tags": []
   },
   "source": [
    "----\n",
    "\n",
    "**Deep-COVID** V.1.0.08 | Deep CNN-Based CAD System for COVID-19 Detection Using Multiple Lung CT Scans.\n",
    "<br>{Binary (COVID-19, Non-COVID) clasification.}\n",
    "\n",
    "© Proposed Method Implementation by **Mehrad Aria** for Paper [Deep CNN-Based CAD System for COVID-19 Detection Using Multiple Lung CT Scans](https://doi.org/10.2196/27468).\n",
    "<br>Jan 2021 / Shiraz, Iran.\n",
    "\n",
    "----"
   ]
  }
 ],
 "metadata": {
  "kernelspec": {
   "display_name": "Python 3",
   "language": "python",
   "name": "python3"
  },
  "language_info": {
   "codemirror_mode": {
    "name": "ipython",
    "version": 3
   },
   "file_extension": ".py",
   "mimetype": "text/x-python",
   "name": "python",
   "nbconvert_exporter": "python",
   "pygments_lexer": "ipython3",
   "version": "3.7.9"
  },
  "papermill": {
   "default_parameters": {},
   "duration": 8257.261987,
   "end_time": "2021-04-19T05:14:26.477798",
   "environment_variables": {},
   "exception": null,
   "input_path": "__notebook__.ipynb",
   "output_path": "__notebook__.ipynb",
   "parameters": {},
   "start_time": "2021-04-19T02:56:49.215811",
   "version": "2.3.2"
  }
 },
 "nbformat": 4,
 "nbformat_minor": 5
}